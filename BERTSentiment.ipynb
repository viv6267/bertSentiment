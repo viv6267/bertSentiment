{
 "cells": [
  {
   "cell_type": "code",
   "execution_count": 1,
   "id": "037b15ae-1fd3-40c4-9896-706411988fe3",
   "metadata": {},
   "outputs": [
    {
     "name": "stdout",
     "output_type": "stream",
     "text": [
      "Looking in indexes: https://download.pytorch.org/whl/cu121\n",
      "Requirement already satisfied: torch in e:\\anaconda\\lib\\site-packages (2.3.1+cu121)\n",
      "Requirement already satisfied: torchvision in e:\\anaconda\\lib\\site-packages (0.18.1+cu121)\n",
      "Requirement already satisfied: torchaudio in e:\\anaconda\\lib\\site-packages (2.3.1+cu121)\n",
      "Requirement already satisfied: filelock in e:\\anaconda\\lib\\site-packages (from torch) (3.13.1)\n",
      "Requirement already satisfied: typing-extensions>=4.8.0 in c:\\users\\hp pc\\appdata\\roaming\\python\\python311\\site-packages (from torch) (4.12.1)\n",
      "Requirement already satisfied: sympy in e:\\anaconda\\lib\\site-packages (from torch) (1.12)\n",
      "Requirement already satisfied: networkx in e:\\anaconda\\lib\\site-packages (from torch) (3.1)\n",
      "Requirement already satisfied: jinja2 in e:\\anaconda\\lib\\site-packages (from torch) (3.1.3)\n",
      "Requirement already satisfied: fsspec in e:\\anaconda\\lib\\site-packages (from torch) (2023.10.0)\n",
      "Requirement already satisfied: mkl<=2021.4.0,>=2021.1.1 in e:\\anaconda\\lib\\site-packages (from torch) (2021.4.0)\n",
      "Requirement already satisfied: numpy in e:\\anaconda\\lib\\site-packages (from torchvision) (1.26.4)\n",
      "Requirement already satisfied: pillow!=8.3.*,>=5.3.0 in e:\\anaconda\\lib\\site-packages (from torchvision) (10.2.0)\n",
      "Requirement already satisfied: intel-openmp==2021.* in e:\\anaconda\\lib\\site-packages (from mkl<=2021.4.0,>=2021.1.1->torch) (2021.4.0)\n",
      "Requirement already satisfied: tbb==2021.* in e:\\anaconda\\lib\\site-packages (from mkl<=2021.4.0,>=2021.1.1->torch) (2021.11.0)\n",
      "Requirement already satisfied: MarkupSafe>=2.0 in e:\\anaconda\\lib\\site-packages (from jinja2->torch) (2.1.3)\n",
      "Requirement already satisfied: mpmath>=0.19 in e:\\anaconda\\lib\\site-packages (from sympy->torch) (1.3.0)\n"
     ]
    }
   ],
   "source": [
    "# !pip install torch torchvision torchaudio --index-url https://download.pytorch.org/whl/cu121"
   ]
  },
  {
   "cell_type": "code",
   "execution_count": 2,
   "id": "08dfcf7c-23fb-44f0-a6c9-f652d98dae59",
   "metadata": {},
   "outputs": [
    {
     "name": "stdout",
     "output_type": "stream",
     "text": [
      "Requirement already satisfied: transformers in e:\\anaconda\\lib\\site-packages (4.42.4)\n",
      "Requirement already satisfied: beautifulsoup4 in e:\\anaconda\\lib\\site-packages (4.12.2)\n",
      "Requirement already satisfied: requests in e:\\anaconda\\lib\\site-packages (2.31.0)\n",
      "Requirement already satisfied: filelock in e:\\anaconda\\lib\\site-packages (from transformers) (3.13.1)\n",
      "Requirement already satisfied: huggingface-hub<1.0,>=0.23.2 in e:\\anaconda\\lib\\site-packages (from transformers) (0.23.4)\n",
      "Requirement already satisfied: numpy<2.0,>=1.17 in e:\\anaconda\\lib\\site-packages (from transformers) (1.26.4)\n",
      "Requirement already satisfied: packaging>=20.0 in c:\\users\\hp pc\\appdata\\roaming\\python\\python311\\site-packages (from transformers) (24.0)\n",
      "Requirement already satisfied: pyyaml>=5.1 in e:\\anaconda\\lib\\site-packages (from transformers) (6.0.1)\n",
      "Requirement already satisfied: regex!=2019.12.17 in e:\\anaconda\\lib\\site-packages (from transformers) (2023.10.3)\n",
      "Requirement already satisfied: safetensors>=0.4.1 in e:\\anaconda\\lib\\site-packages (from transformers) (0.4.3)\n",
      "Requirement already satisfied: tokenizers<0.20,>=0.19 in e:\\anaconda\\lib\\site-packages (from transformers) (0.19.1)\n",
      "Requirement already satisfied: tqdm>=4.27 in e:\\anaconda\\lib\\site-packages (from transformers) (4.65.0)\n",
      "Requirement already satisfied: soupsieve>1.2 in e:\\anaconda\\lib\\site-packages (from beautifulsoup4) (2.5)\n",
      "Requirement already satisfied: charset-normalizer<4,>=2 in e:\\anaconda\\lib\\site-packages (from requests) (2.0.4)\n",
      "Requirement already satisfied: idna<4,>=2.5 in e:\\anaconda\\lib\\site-packages (from requests) (3.4)\n",
      "Requirement already satisfied: urllib3<3,>=1.21.1 in e:\\anaconda\\lib\\site-packages (from requests) (2.0.7)\n",
      "Requirement already satisfied: certifi>=2017.4.17 in e:\\anaconda\\lib\\site-packages (from requests) (2024.6.2)\n",
      "Requirement already satisfied: fsspec>=2023.5.0 in e:\\anaconda\\lib\\site-packages (from huggingface-hub<1.0,>=0.23.2->transformers) (2023.10.0)\n",
      "Requirement already satisfied: typing-extensions>=3.7.4.3 in c:\\users\\hp pc\\appdata\\roaming\\python\\python311\\site-packages (from huggingface-hub<1.0,>=0.23.2->transformers) (4.12.1)\n",
      "Requirement already satisfied: colorama in c:\\users\\hp pc\\appdata\\roaming\\python\\python311\\site-packages (from tqdm>=4.27->transformers) (0.4.6)\n"
     ]
    }
   ],
   "source": [
    "# !pip install transformers beautifulsoup4 requests"
   ]
  },
  {
   "cell_type": "code",
   "execution_count": 3,
   "id": "3e42bc16-4feb-4670-b1f7-6f189a3e5718",
   "metadata": {},
   "outputs": [
    {
     "name": "stdout",
     "output_type": "stream",
     "text": [
      "Requirement already satisfied: mitosheet in e:\\anaconda\\lib\\site-packages (0.1.577)\n",
      "Requirement already satisfied: jupyterlab~=3.0 in e:\\anaconda\\lib\\site-packages (from mitosheet) (3.6.7)\n",
      "Requirement already satisfied: pandas>=0.24.2 in e:\\anaconda\\lib\\site-packages (from mitosheet) (2.1.4)\n",
      "Requirement already satisfied: analytics-python in e:\\anaconda\\lib\\site-packages (from mitosheet) (1.4.post1)\n",
      "Requirement already satisfied: plotly>=4.14.3 in e:\\anaconda\\lib\\site-packages (from mitosheet) (5.9.0)\n",
      "Requirement already satisfied: chardet>=3.0.4 in e:\\anaconda\\lib\\site-packages (from mitosheet) (4.0.0)\n",
      "Requirement already satisfied: openpyxl in e:\\anaconda\\lib\\site-packages (from mitosheet) (3.0.10)\n",
      "Requirement already satisfied: ipython in c:\\users\\hp pc\\appdata\\roaming\\python\\python311\\site-packages (from jupyterlab~=3.0->mitosheet) (8.25.0)\n",
      "Requirement already satisfied: packaging in c:\\users\\hp pc\\appdata\\roaming\\python\\python311\\site-packages (from jupyterlab~=3.0->mitosheet) (24.0)\n",
      "Requirement already satisfied: tornado>=6.1.0 in c:\\users\\hp pc\\appdata\\roaming\\python\\python311\\site-packages (from jupyterlab~=3.0->mitosheet) (6.4)\n",
      "Requirement already satisfied: jupyter-core in c:\\users\\hp pc\\appdata\\roaming\\python\\python311\\site-packages (from jupyterlab~=3.0->mitosheet) (5.7.2)\n",
      "Requirement already satisfied: jupyterlab-server~=2.19 in e:\\anaconda\\lib\\site-packages (from jupyterlab~=3.0->mitosheet) (2.25.1)\n",
      "Requirement already satisfied: jupyter-server<3,>=1.16.0 in e:\\anaconda\\lib\\site-packages (from jupyterlab~=3.0->mitosheet) (2.10.0)\n",
      "Requirement already satisfied: jupyter-ydoc~=0.2.4 in e:\\anaconda\\lib\\site-packages (from jupyterlab~=3.0->mitosheet) (0.2.5)\n",
      "Requirement already satisfied: jupyter-server-ydoc~=0.8.0 in e:\\anaconda\\lib\\site-packages (from jupyterlab~=3.0->mitosheet) (0.8.0)\n",
      "Requirement already satisfied: nbclassic in e:\\anaconda\\lib\\site-packages (from jupyterlab~=3.0->mitosheet) (1.1.0)\n",
      "Requirement already satisfied: notebook<7 in e:\\anaconda\\lib\\site-packages (from jupyterlab~=3.0->mitosheet) (6.5.7)\n",
      "Requirement already satisfied: jinja2>=2.1 in e:\\anaconda\\lib\\site-packages (from jupyterlab~=3.0->mitosheet) (3.1.3)\n",
      "Requirement already satisfied: numpy<2,>=1.23.2 in e:\\anaconda\\lib\\site-packages (from pandas>=0.24.2->mitosheet) (1.26.4)\n",
      "Requirement already satisfied: python-dateutil>=2.8.2 in c:\\users\\hp pc\\appdata\\roaming\\python\\python311\\site-packages (from pandas>=0.24.2->mitosheet) (2.9.0.post0)\n",
      "Requirement already satisfied: pytz>=2020.1 in e:\\anaconda\\lib\\site-packages (from pandas>=0.24.2->mitosheet) (2023.3.post1)\n",
      "Requirement already satisfied: tzdata>=2022.1 in e:\\anaconda\\lib\\site-packages (from pandas>=0.24.2->mitosheet) (2023.3)\n",
      "Requirement already satisfied: tenacity>=6.2.0 in e:\\anaconda\\lib\\site-packages (from plotly>=4.14.3->mitosheet) (8.2.2)\n",
      "Requirement already satisfied: requests<3.0,>=2.7 in e:\\anaconda\\lib\\site-packages (from analytics-python->mitosheet) (2.31.0)\n",
      "Requirement already satisfied: six>=1.5 in c:\\users\\hp pc\\appdata\\roaming\\python\\python311\\site-packages (from analytics-python->mitosheet) (1.16.0)\n",
      "Requirement already satisfied: monotonic>=1.5 in e:\\anaconda\\lib\\site-packages (from analytics-python->mitosheet) (1.6)\n",
      "Requirement already satisfied: backoff==1.10.0 in e:\\anaconda\\lib\\site-packages (from analytics-python->mitosheet) (1.10.0)\n",
      "Requirement already satisfied: et_xmlfile in e:\\anaconda\\lib\\site-packages (from openpyxl->mitosheet) (1.1.0)\n",
      "Requirement already satisfied: MarkupSafe>=2.0 in e:\\anaconda\\lib\\site-packages (from jinja2>=2.1->jupyterlab~=3.0->mitosheet) (2.1.3)\n",
      "Requirement already satisfied: anyio>=3.1.0 in e:\\anaconda\\lib\\site-packages (from jupyter-server<3,>=1.16.0->jupyterlab~=3.0->mitosheet) (4.2.0)\n",
      "Requirement already satisfied: argon2-cffi in e:\\anaconda\\lib\\site-packages (from jupyter-server<3,>=1.16.0->jupyterlab~=3.0->mitosheet) (21.3.0)\n",
      "Requirement already satisfied: jupyter-client>=7.4.4 in e:\\anaconda\\lib\\site-packages (from jupyter-server<3,>=1.16.0->jupyterlab~=3.0->mitosheet) (7.4.9)\n",
      "Requirement already satisfied: jupyter-events>=0.6.0 in e:\\anaconda\\lib\\site-packages (from jupyter-server<3,>=1.16.0->jupyterlab~=3.0->mitosheet) (0.8.0)\n",
      "Requirement already satisfied: jupyter-server-terminals in e:\\anaconda\\lib\\site-packages (from jupyter-server<3,>=1.16.0->jupyterlab~=3.0->mitosheet) (0.4.4)\n",
      "Requirement already satisfied: nbconvert>=6.4.4 in e:\\anaconda\\lib\\site-packages (from jupyter-server<3,>=1.16.0->jupyterlab~=3.0->mitosheet) (7.10.0)\n",
      "Requirement already satisfied: nbformat>=5.3.0 in e:\\anaconda\\lib\\site-packages (from jupyter-server<3,>=1.16.0->jupyterlab~=3.0->mitosheet) (5.9.2)\n",
      "Requirement already satisfied: overrides in e:\\anaconda\\lib\\site-packages (from jupyter-server<3,>=1.16.0->jupyterlab~=3.0->mitosheet) (7.4.0)\n",
      "Requirement already satisfied: prometheus-client in e:\\anaconda\\lib\\site-packages (from jupyter-server<3,>=1.16.0->jupyterlab~=3.0->mitosheet) (0.14.1)\n",
      "Requirement already satisfied: pywinpty in e:\\anaconda\\lib\\site-packages (from jupyter-server<3,>=1.16.0->jupyterlab~=3.0->mitosheet) (2.0.10)\n",
      "Requirement already satisfied: pyzmq>=24 in c:\\users\\hp pc\\appdata\\roaming\\python\\python311\\site-packages (from jupyter-server<3,>=1.16.0->jupyterlab~=3.0->mitosheet) (26.0.3)\n",
      "Requirement already satisfied: send2trash>=1.8.2 in e:\\anaconda\\lib\\site-packages (from jupyter-server<3,>=1.16.0->jupyterlab~=3.0->mitosheet) (1.8.2)\n",
      "Requirement already satisfied: terminado>=0.8.3 in e:\\anaconda\\lib\\site-packages (from jupyter-server<3,>=1.16.0->jupyterlab~=3.0->mitosheet) (0.17.1)\n",
      "Requirement already satisfied: traitlets>=5.6.0 in c:\\users\\hp pc\\appdata\\roaming\\python\\python311\\site-packages (from jupyter-server<3,>=1.16.0->jupyterlab~=3.0->mitosheet) (5.14.3)\n",
      "Requirement already satisfied: websocket-client in e:\\anaconda\\lib\\site-packages (from jupyter-server<3,>=1.16.0->jupyterlab~=3.0->mitosheet) (0.58.0)\n",
      "Requirement already satisfied: platformdirs>=2.5 in c:\\users\\hp pc\\appdata\\roaming\\python\\python311\\site-packages (from jupyter-core->jupyterlab~=3.0->mitosheet) (4.2.2)\n",
      "Requirement already satisfied: pywin32>=300 in c:\\users\\hp pc\\appdata\\roaming\\python\\python311\\site-packages (from jupyter-core->jupyterlab~=3.0->mitosheet) (306)\n",
      "Requirement already satisfied: jupyter-server-fileid<1,>=0.6.0 in e:\\anaconda\\lib\\site-packages (from jupyter-server-ydoc~=0.8.0->jupyterlab~=3.0->mitosheet) (0.9.2)\n",
      "Requirement already satisfied: ypy-websocket<0.9.0,>=0.8.2 in e:\\anaconda\\lib\\site-packages (from jupyter-server-ydoc~=0.8.0->jupyterlab~=3.0->mitosheet) (0.8.4)\n",
      "Requirement already satisfied: y-py<0.7.0,>=0.6.0 in e:\\anaconda\\lib\\site-packages (from jupyter-ydoc~=0.2.4->jupyterlab~=3.0->mitosheet) (0.6.2)\n",
      "Requirement already satisfied: babel>=2.10 in e:\\anaconda\\lib\\site-packages (from jupyterlab-server~=2.19->jupyterlab~=3.0->mitosheet) (2.11.0)\n",
      "Requirement already satisfied: json5>=0.9.0 in e:\\anaconda\\lib\\site-packages (from jupyterlab-server~=2.19->jupyterlab~=3.0->mitosheet) (0.9.6)\n",
      "Requirement already satisfied: jsonschema>=4.18.0 in e:\\anaconda\\lib\\site-packages (from jupyterlab-server~=2.19->jupyterlab~=3.0->mitosheet) (4.19.2)\n",
      "Requirement already satisfied: ipython-genutils in e:\\anaconda\\lib\\site-packages (from notebook<7->jupyterlab~=3.0->mitosheet) (0.2.0)\n",
      "Requirement already satisfied: nest-asyncio>=1.5 in c:\\users\\hp pc\\appdata\\roaming\\python\\python311\\site-packages (from notebook<7->jupyterlab~=3.0->mitosheet) (1.6.0)\n",
      "Requirement already satisfied: ipykernel in c:\\users\\hp pc\\appdata\\roaming\\python\\python311\\site-packages (from notebook<7->jupyterlab~=3.0->mitosheet) (6.29.4)\n",
      "Requirement already satisfied: notebook-shim>=0.2.3 in e:\\anaconda\\lib\\site-packages (from nbclassic->jupyterlab~=3.0->mitosheet) (0.2.3)\n",
      "Requirement already satisfied: charset-normalizer<4,>=2 in e:\\anaconda\\lib\\site-packages (from requests<3.0,>=2.7->analytics-python->mitosheet) (2.0.4)\n",
      "Requirement already satisfied: idna<4,>=2.5 in e:\\anaconda\\lib\\site-packages (from requests<3.0,>=2.7->analytics-python->mitosheet) (3.4)\n",
      "Requirement already satisfied: urllib3<3,>=1.21.1 in e:\\anaconda\\lib\\site-packages (from requests<3.0,>=2.7->analytics-python->mitosheet) (2.0.7)\n",
      "Requirement already satisfied: certifi>=2017.4.17 in e:\\anaconda\\lib\\site-packages (from requests<3.0,>=2.7->analytics-python->mitosheet) (2024.6.2)\n",
      "Requirement already satisfied: decorator in c:\\users\\hp pc\\appdata\\roaming\\python\\python311\\site-packages (from ipython->jupyterlab~=3.0->mitosheet) (5.1.1)\n",
      "Requirement already satisfied: jedi>=0.16 in c:\\users\\hp pc\\appdata\\roaming\\python\\python311\\site-packages (from ipython->jupyterlab~=3.0->mitosheet) (0.19.1)\n",
      "Requirement already satisfied: matplotlib-inline in c:\\users\\hp pc\\appdata\\roaming\\python\\python311\\site-packages (from ipython->jupyterlab~=3.0->mitosheet) (0.1.7)\n",
      "Requirement already satisfied: prompt-toolkit<3.1.0,>=3.0.41 in c:\\users\\hp pc\\appdata\\roaming\\python\\python311\\site-packages (from ipython->jupyterlab~=3.0->mitosheet) (3.0.46)\n",
      "Requirement already satisfied: pygments>=2.4.0 in c:\\users\\hp pc\\appdata\\roaming\\python\\python311\\site-packages (from ipython->jupyterlab~=3.0->mitosheet) (2.18.0)\n",
      "Requirement already satisfied: stack-data in c:\\users\\hp pc\\appdata\\roaming\\python\\python311\\site-packages (from ipython->jupyterlab~=3.0->mitosheet) (0.6.3)\n",
      "Requirement already satisfied: typing-extensions>=4.6 in c:\\users\\hp pc\\appdata\\roaming\\python\\python311\\site-packages (from ipython->jupyterlab~=3.0->mitosheet) (4.12.1)\n",
      "Requirement already satisfied: colorama in c:\\users\\hp pc\\appdata\\roaming\\python\\python311\\site-packages (from ipython->jupyterlab~=3.0->mitosheet) (0.4.6)\n",
      "Requirement already satisfied: sniffio>=1.1 in e:\\anaconda\\lib\\site-packages (from anyio>=3.1.0->jupyter-server<3,>=1.16.0->jupyterlab~=3.0->mitosheet) (1.3.0)\n",
      "Requirement already satisfied: parso<0.9.0,>=0.8.3 in c:\\users\\hp pc\\appdata\\roaming\\python\\python311\\site-packages (from jedi>=0.16->ipython->jupyterlab~=3.0->mitosheet) (0.8.4)\n",
      "Requirement already satisfied: attrs>=22.2.0 in e:\\anaconda\\lib\\site-packages (from jsonschema>=4.18.0->jupyterlab-server~=2.19->jupyterlab~=3.0->mitosheet) (23.1.0)\n",
      "Requirement already satisfied: jsonschema-specifications>=2023.03.6 in e:\\anaconda\\lib\\site-packages (from jsonschema>=4.18.0->jupyterlab-server~=2.19->jupyterlab~=3.0->mitosheet) (2023.7.1)\n",
      "Requirement already satisfied: referencing>=0.28.4 in e:\\anaconda\\lib\\site-packages (from jsonschema>=4.18.0->jupyterlab-server~=2.19->jupyterlab~=3.0->mitosheet) (0.30.2)\n",
      "Requirement already satisfied: rpds-py>=0.7.1 in e:\\anaconda\\lib\\site-packages (from jsonschema>=4.18.0->jupyterlab-server~=2.19->jupyterlab~=3.0->mitosheet) (0.10.6)\n",
      "Requirement already satisfied: entrypoints in e:\\anaconda\\lib\\site-packages (from jupyter-client>=7.4.4->jupyter-server<3,>=1.16.0->jupyterlab~=3.0->mitosheet) (0.4)\n",
      "Requirement already satisfied: python-json-logger>=2.0.4 in e:\\anaconda\\lib\\site-packages (from jupyter-events>=0.6.0->jupyter-server<3,>=1.16.0->jupyterlab~=3.0->mitosheet) (2.0.7)\n",
      "Requirement already satisfied: pyyaml>=5.3 in e:\\anaconda\\lib\\site-packages (from jupyter-events>=0.6.0->jupyter-server<3,>=1.16.0->jupyterlab~=3.0->mitosheet) (6.0.1)\n",
      "Requirement already satisfied: rfc3339-validator in e:\\anaconda\\lib\\site-packages (from jupyter-events>=0.6.0->jupyter-server<3,>=1.16.0->jupyterlab~=3.0->mitosheet) (0.1.4)\n",
      "Requirement already satisfied: rfc3986-validator>=0.1.1 in e:\\anaconda\\lib\\site-packages (from jupyter-events>=0.6.0->jupyter-server<3,>=1.16.0->jupyterlab~=3.0->mitosheet) (0.1.1)\n",
      "Requirement already satisfied: beautifulsoup4 in e:\\anaconda\\lib\\site-packages (from nbconvert>=6.4.4->jupyter-server<3,>=1.16.0->jupyterlab~=3.0->mitosheet) (4.12.2)\n",
      "Requirement already satisfied: bleach!=5.0.0 in e:\\anaconda\\lib\\site-packages (from nbconvert>=6.4.4->jupyter-server<3,>=1.16.0->jupyterlab~=3.0->mitosheet) (4.1.0)\n",
      "Requirement already satisfied: defusedxml in e:\\anaconda\\lib\\site-packages (from nbconvert>=6.4.4->jupyter-server<3,>=1.16.0->jupyterlab~=3.0->mitosheet) (0.7.1)\n",
      "Requirement already satisfied: jupyterlab-pygments in e:\\anaconda\\lib\\site-packages (from nbconvert>=6.4.4->jupyter-server<3,>=1.16.0->jupyterlab~=3.0->mitosheet) (0.1.2)\n",
      "Requirement already satisfied: mistune<4,>=2.0.3 in e:\\anaconda\\lib\\site-packages (from nbconvert>=6.4.4->jupyter-server<3,>=1.16.0->jupyterlab~=3.0->mitosheet) (2.0.4)\n",
      "Requirement already satisfied: nbclient>=0.5.0 in e:\\anaconda\\lib\\site-packages (from nbconvert>=6.4.4->jupyter-server<3,>=1.16.0->jupyterlab~=3.0->mitosheet) (0.8.0)\n",
      "Requirement already satisfied: pandocfilters>=1.4.1 in e:\\anaconda\\lib\\site-packages (from nbconvert>=6.4.4->jupyter-server<3,>=1.16.0->jupyterlab~=3.0->mitosheet) (1.5.0)\n",
      "Requirement already satisfied: tinycss2 in e:\\anaconda\\lib\\site-packages (from nbconvert>=6.4.4->jupyter-server<3,>=1.16.0->jupyterlab~=3.0->mitosheet) (1.2.1)\n",
      "Requirement already satisfied: fastjsonschema in e:\\anaconda\\lib\\site-packages (from nbformat>=5.3.0->jupyter-server<3,>=1.16.0->jupyterlab~=3.0->mitosheet) (2.16.2)\n",
      "Requirement already satisfied: wcwidth in c:\\users\\hp pc\\appdata\\roaming\\python\\python311\\site-packages (from prompt-toolkit<3.1.0,>=3.0.41->ipython->jupyterlab~=3.0->mitosheet) (0.2.13)\n",
      "Requirement already satisfied: aiofiles<23,>=22.1.0 in e:\\anaconda\\lib\\site-packages (from ypy-websocket<0.9.0,>=0.8.2->jupyter-server-ydoc~=0.8.0->jupyterlab~=3.0->mitosheet) (22.1.0)\n",
      "Requirement already satisfied: aiosqlite<1,>=0.17.0 in e:\\anaconda\\lib\\site-packages (from ypy-websocket<0.9.0,>=0.8.2->jupyter-server-ydoc~=0.8.0->jupyterlab~=3.0->mitosheet) (0.20.0)\n",
      "Requirement already satisfied: argon2-cffi-bindings in e:\\anaconda\\lib\\site-packages (from argon2-cffi->jupyter-server<3,>=1.16.0->jupyterlab~=3.0->mitosheet) (21.2.0)\n",
      "Requirement already satisfied: comm>=0.1.1 in c:\\users\\hp pc\\appdata\\roaming\\python\\python311\\site-packages (from ipykernel->notebook<7->jupyterlab~=3.0->mitosheet) (0.2.2)\n",
      "Requirement already satisfied: debugpy>=1.6.5 in c:\\users\\hp pc\\appdata\\roaming\\python\\python311\\site-packages (from ipykernel->notebook<7->jupyterlab~=3.0->mitosheet) (1.8.1)\n",
      "Requirement already satisfied: psutil in c:\\users\\hp pc\\appdata\\roaming\\python\\python311\\site-packages (from ipykernel->notebook<7->jupyterlab~=3.0->mitosheet) (5.9.8)\n",
      "Requirement already satisfied: executing>=1.2.0 in c:\\users\\hp pc\\appdata\\roaming\\python\\python311\\site-packages (from stack-data->ipython->jupyterlab~=3.0->mitosheet) (2.0.1)\n",
      "Requirement already satisfied: asttokens>=2.1.0 in c:\\users\\hp pc\\appdata\\roaming\\python\\python311\\site-packages (from stack-data->ipython->jupyterlab~=3.0->mitosheet) (2.4.1)\n",
      "Requirement already satisfied: pure-eval in c:\\users\\hp pc\\appdata\\roaming\\python\\python311\\site-packages (from stack-data->ipython->jupyterlab~=3.0->mitosheet) (0.2.2)\n",
      "Requirement already satisfied: webencodings in e:\\anaconda\\lib\\site-packages (from bleach!=5.0.0->nbconvert>=6.4.4->jupyter-server<3,>=1.16.0->jupyterlab~=3.0->mitosheet) (0.5.1)\n",
      "Requirement already satisfied: fqdn in e:\\anaconda\\lib\\site-packages (from jsonschema[format-nongpl]>=4.18.0->jupyter-events>=0.6.0->jupyter-server<3,>=1.16.0->jupyterlab~=3.0->mitosheet) (1.5.1)\n",
      "Requirement already satisfied: isoduration in e:\\anaconda\\lib\\site-packages (from jsonschema[format-nongpl]>=4.18.0->jupyter-events>=0.6.0->jupyter-server<3,>=1.16.0->jupyterlab~=3.0->mitosheet) (20.11.0)\n",
      "Requirement already satisfied: jsonpointer>1.13 in e:\\anaconda\\lib\\site-packages (from jsonschema[format-nongpl]>=4.18.0->jupyter-events>=0.6.0->jupyter-server<3,>=1.16.0->jupyterlab~=3.0->mitosheet) (2.1)\n",
      "Requirement already satisfied: uri-template in e:\\anaconda\\lib\\site-packages (from jsonschema[format-nongpl]>=4.18.0->jupyter-events>=0.6.0->jupyter-server<3,>=1.16.0->jupyterlab~=3.0->mitosheet) (1.3.0)\n",
      "Requirement already satisfied: webcolors>=1.11 in e:\\anaconda\\lib\\site-packages (from jsonschema[format-nongpl]>=4.18.0->jupyter-events>=0.6.0->jupyter-server<3,>=1.16.0->jupyterlab~=3.0->mitosheet) (24.6.0)\n",
      "Requirement already satisfied: cffi>=1.0.1 in e:\\anaconda\\lib\\site-packages (from argon2-cffi-bindings->argon2-cffi->jupyter-server<3,>=1.16.0->jupyterlab~=3.0->mitosheet) (1.16.0)\n",
      "Requirement already satisfied: soupsieve>1.2 in e:\\anaconda\\lib\\site-packages (from beautifulsoup4->nbconvert>=6.4.4->jupyter-server<3,>=1.16.0->jupyterlab~=3.0->mitosheet) (2.5)\n",
      "Requirement already satisfied: pycparser in e:\\anaconda\\lib\\site-packages (from cffi>=1.0.1->argon2-cffi-bindings->argon2-cffi->jupyter-server<3,>=1.16.0->jupyterlab~=3.0->mitosheet) (2.21)\n",
      "Requirement already satisfied: arrow>=0.15.0 in e:\\anaconda\\lib\\site-packages (from isoduration->jsonschema[format-nongpl]>=4.18.0->jupyter-events>=0.6.0->jupyter-server<3,>=1.16.0->jupyterlab~=3.0->mitosheet) (1.2.3)\n"
     ]
    }
   ],
   "source": [
    "# !pip install mitosheet"
   ]
  },
  {
   "cell_type": "code",
   "execution_count": 7,
   "id": "4cf7bbf5",
   "metadata": {},
   "outputs": [],
   "source": [
    "# import mitosheet"
   ]
  },
  {
   "cell_type": "code",
   "execution_count": 6,
   "id": "98d9bb27-4d5d-424a-b5db-f045ecd42f49",
   "metadata": {},
   "outputs": [
    {
     "ename": "ModuleNotFoundError",
     "evalue": "No module named 'transformers'",
     "output_type": "error",
     "traceback": [
      "\u001b[1;31m---------------------------------------------------------------------------\u001b[0m",
      "\u001b[1;31mModuleNotFoundError\u001b[0m                       Traceback (most recent call last)",
      "Cell \u001b[1;32mIn[6], line 1\u001b[0m\n\u001b[1;32m----> 1\u001b[0m \u001b[38;5;28;01mfrom\u001b[39;00m \u001b[38;5;21;01mtransformers\u001b[39;00m \u001b[38;5;28;01mimport\u001b[39;00m AutoTokenizer, AutoModelForSequenceClassification\n\u001b[0;32m      2\u001b[0m \u001b[38;5;28;01mimport\u001b[39;00m \u001b[38;5;21;01mtorch\u001b[39;00m\n\u001b[0;32m      3\u001b[0m \u001b[38;5;28;01mimport\u001b[39;00m \u001b[38;5;21;01mre\u001b[39;00m\n",
      "\u001b[1;31mModuleNotFoundError\u001b[0m: No module named 'transformers'"
     ]
    }
   ],
   "source": [
    "from transformers import AutoTokenizer, AutoModelForSequenceClassification\n",
    "import torch\n",
    "import re\n",
    "import requests\n",
    "from bs4 import BeautifulSoup"
   ]
  },
  {
   "cell_type": "code",
   "execution_count": null,
   "id": "22b86e1a-2f6c-4997-89ea-a312156f7f6c",
   "metadata": {},
   "outputs": [
    {
     "data": {
      "application/vnd.jupyter.widget-view+json": {
       "model_id": "3d60c1c622bf4d4cb56cdd7281933dbf",
       "version_major": 2,
       "version_minor": 0
      },
      "text/plain": [
       "tokenizer_config.json:   0%|          | 0.00/39.0 [00:00<?, ?B/s]"
      ]
     },
     "metadata": {},
     "output_type": "display_data"
    },
    {
     "name": "stderr",
     "output_type": "stream",
     "text": [
      "E:\\Anaconda\\Lib\\site-packages\\huggingface_hub\\file_download.py:157: UserWarning: `huggingface_hub` cache-system uses symlinks by default to efficiently store duplicated files but your machine does not support them in C:\\Users\\HP PC\\.cache\\huggingface\\hub\\models--nlptown--bert-base-multilingual-uncased-sentiment. Caching files will still work but in a degraded version that might require more space on your disk. This warning can be disabled by setting the `HF_HUB_DISABLE_SYMLINKS_WARNING` environment variable. For more details, see https://huggingface.co/docs/huggingface_hub/how-to-cache#limitations.\n",
      "To support symlinks on Windows, you either need to activate Developer Mode or to run Python as an administrator. In order to see activate developer mode, see this article: https://docs.microsoft.com/en-us/windows/apps/get-started/enable-your-device-for-development\n",
      "  warnings.warn(message)\n"
     ]
    },
    {
     "data": {
      "application/vnd.jupyter.widget-view+json": {
       "model_id": "7c6442999dd648808e28fd8e82705fc5",
       "version_major": 2,
       "version_minor": 0
      },
      "text/plain": [
       "config.json:   0%|          | 0.00/953 [00:00<?, ?B/s]"
      ]
     },
     "metadata": {},
     "output_type": "display_data"
    },
    {
     "data": {
      "application/vnd.jupyter.widget-view+json": {
       "model_id": "00903d0b3a63405880128fc207da48eb",
       "version_major": 2,
       "version_minor": 0
      },
      "text/plain": [
       "vocab.txt:   0%|          | 0.00/872k [00:00<?, ?B/s]"
      ]
     },
     "metadata": {},
     "output_type": "display_data"
    },
    {
     "data": {
      "application/vnd.jupyter.widget-view+json": {
       "model_id": "478280f209af477c92bafbedc0d1c058",
       "version_major": 2,
       "version_minor": 0
      },
      "text/plain": [
       "special_tokens_map.json:   0%|          | 0.00/112 [00:00<?, ?B/s]"
      ]
     },
     "metadata": {},
     "output_type": "display_data"
    },
    {
     "data": {
      "application/vnd.jupyter.widget-view+json": {
       "model_id": "437651209ad845a6ab9d6254a7ff071b",
       "version_major": 2,
       "version_minor": 0
      },
      "text/plain": [
       "pytorch_model.bin:   0%|          | 0.00/669M [00:00<?, ?B/s]"
      ]
     },
     "metadata": {},
     "output_type": "display_data"
    }
   ],
   "source": [
    "tokenizer = AutoTokenizer.from_pretrained('nlptown/bert-base-multilingual-uncased-sentiment')\n",
    "\n",
    "model = AutoModelForSequenceClassification.from_pretrained('nlptown/bert-base-multilingual-uncased-sentiment')"
   ]
  },
  {
   "cell_type": "code",
   "execution_count": null,
   "id": "d40dce4a-6fcf-4353-8317-10052dde7ae9",
   "metadata": {},
   "outputs": [],
   "source": [
    "tokens = tokenizer.encode('It was good but couldve been better. Great', return_tensors='pt')"
   ]
  },
  {
   "cell_type": "code",
   "execution_count": null,
   "id": "eef7cb3a-7870-4031-9c53-e1f6815a5573",
   "metadata": {},
   "outputs": [
    {
     "data": {
      "text/plain": [
       "tensor([[  101, 10197, 10140, 12050, 10502, 12296, 10598, 10662, 16197,   119,\n",
       "         11838,   102]])"
      ]
     },
     "execution_count": 17,
     "metadata": {},
     "output_type": "execute_result"
    }
   ],
   "source": [
    "tokens"
   ]
  },
  {
   "cell_type": "code",
   "execution_count": null,
   "id": "9d5ec3af-df88-474b-991b-d2e23950d250",
   "metadata": {},
   "outputs": [],
   "source": [
    "result = model(tokens)\n"
   ]
  },
  {
   "cell_type": "code",
   "execution_count": null,
   "id": "b93f8ce3-601b-4aa3-a4c4-821d49c75f38",
   "metadata": {},
   "outputs": [
    {
     "data": {
      "text/plain": [
       "SequenceClassifierOutput(loss=None, logits=tensor([[-2.7768, -1.2353,  1.4419,  1.9804,  0.4584]],\n",
       "       grad_fn=<AddmmBackward0>), hidden_states=None, attentions=None)"
      ]
     },
     "execution_count": 27,
     "metadata": {},
     "output_type": "execute_result"
    }
   ],
   "source": [
    "result"
   ]
  },
  {
   "cell_type": "code",
   "execution_count": null,
   "id": "d27c1bb4-f369-44b5-8944-e791bbc35db5",
   "metadata": {},
   "outputs": [],
   "source": [
    "tokens1=tokenizer.encode(\"I hate this, worst food got\", return_tensors='pt')"
   ]
  },
  {
   "cell_type": "code",
   "execution_count": null,
   "id": "0f59b72a-744e-4725-b3bb-af16e120fd4d",
   "metadata": {},
   "outputs": [
    {
     "data": {
      "text/plain": [
       "SequenceClassifierOutput(loss=None, logits=tensor([[ 4.7017,  1.6676, -0.7510, -2.7241, -2.0983]],\n",
       "       grad_fn=<AddmmBackward0>), hidden_states=None, attentions=None)"
      ]
     },
     "execution_count": 33,
     "metadata": {},
     "output_type": "execute_result"
    }
   ],
   "source": [
    "result2=model(tokens1)\n",
    "result2"
   ]
  },
  {
   "cell_type": "code",
   "execution_count": null,
   "id": "15eb15f2-768c-4dd2-a196-645812a52686",
   "metadata": {},
   "outputs": [
    {
     "data": {
      "text/plain": [
       "tensor([[ 4.7017,  1.6676, -0.7510, -2.7241, -2.0983]],\n",
       "       grad_fn=<AddmmBackward0>)"
      ]
     },
     "execution_count": 35,
     "metadata": {},
     "output_type": "execute_result"
    }
   ],
   "source": [
    "result2.logits"
   ]
  },
  {
   "cell_type": "code",
   "execution_count": null,
   "id": "f9834cba-d425-4695-b969-503e0ccf140d",
   "metadata": {},
   "outputs": [
    {
     "data": {
      "text/plain": [
       "tensor([[-2.7768, -1.2353,  1.4419,  1.9804,  0.4584]],\n",
       "       grad_fn=<AddmmBackward0>)"
      ]
     },
     "execution_count": 37,
     "metadata": {},
     "output_type": "execute_result"
    }
   ],
   "source": [
    "result.logits\n"
   ]
  },
  {
   "cell_type": "code",
   "execution_count": null,
   "id": "216153b9-1ec6-4b39-a598-4f45d5ee92c5",
   "metadata": {},
   "outputs": [
    {
     "data": {
      "text/plain": [
       "'[CLS] it was good but couldve been better. great [SEP]'"
      ]
     },
     "execution_count": 41,
     "metadata": {},
     "output_type": "execute_result"
    }
   ],
   "source": [
    "tokenizer.decode(tokens[0])"
   ]
  },
  {
   "cell_type": "code",
   "execution_count": null,
   "id": "b51ed40a-45c2-4814-b8b6-db12788156ab",
   "metadata": {},
   "outputs": [
    {
     "data": {
      "text/plain": [
       "4"
      ]
     },
     "execution_count": 51,
     "metadata": {},
     "output_type": "execute_result"
    }
   ],
   "source": [
    "int(torch.argmax(result.logits)+1)"
   ]
  },
  {
   "cell_type": "code",
   "execution_count": null,
   "id": "b019408e-f976-4654-8c3d-5ce65d7a6cdf",
   "metadata": {},
   "outputs": [],
   "source": [
    "r = requests.get('https://www.yelp.com/biz/social-brew-cafe-pyrmont')\n",
    "soup = BeautifulSoup(r.text, 'html.parser')"
   ]
  },
  {
   "cell_type": "code",
   "execution_count": null,
   "id": "c51d95ea-f69f-42c2-abde-19312466344a",
   "metadata": {},
   "outputs": [
    {
     "data": {
      "text/plain": [
       "re.compile(r'.*comment.*', re.UNICODE)"
      ]
     },
     "execution_count": 55,
     "metadata": {},
     "output_type": "execute_result"
    }
   ],
   "source": [
    "regex = re.compile('.*comment.*')\n",
    "regex"
   ]
  },
  {
   "cell_type": "code",
   "execution_count": null,
   "id": "2a89e704-badc-4e33-9e26-2afe1838faaf",
   "metadata": {},
   "outputs": [
    {
     "data": {
      "text/plain": [
       "\"Very cute coffee shop and restaurant. They have a lovely outdoor seating area and several tables inside.  It was fairly busy on a Tuesday morning but we were to grab the last open table. The server was so enjoyable, she chatted and joked with us and provided fast service with our ordering, drinks and meals. The food was very good. We ordered a wide variety and every meal was good to delicious. The sweet potato fries on the Chicken Burger plate were absolutely delicious, some of the best I've ever had. I definitely enjoyed this cafe, the outdoor seating, the service and the food!!\""
      ]
     },
     "execution_count": 65,
     "metadata": {},
     "output_type": "execute_result"
    }
   ],
   "source": [
    "results = soup.find_all('p', {'class':regex})\n",
    "\n",
    "reviews = [result.text for result in results]\n",
    "reviews[0]"
   ]
  },
  {
   "cell_type": "code",
   "execution_count": null,
   "id": "f8cc4e0b-232b-406f-be4d-05e9806f400c",
   "metadata": {},
   "outputs": [],
   "source": [
    "import numpy as np\n",
    "import pandas as pd"
   ]
  },
  {
   "cell_type": "code",
   "execution_count": null,
   "id": "0d2b3ce3-2a8a-41f6-9f95-beaa5ffa4b7e",
   "metadata": {},
   "outputs": [
    {
     "data": {
      "text/html": [
       "<div>\n",
       "<style scoped>\n",
       "    .dataframe tbody tr th:only-of-type {\n",
       "        vertical-align: middle;\n",
       "    }\n",
       "\n",
       "    .dataframe tbody tr th {\n",
       "        vertical-align: top;\n",
       "    }\n",
       "\n",
       "    .dataframe thead th {\n",
       "        text-align: right;\n",
       "    }\n",
       "</style>\n",
       "<table border=\"1\" class=\"dataframe\">\n",
       "  <thead>\n",
       "    <tr style=\"text-align: right;\">\n",
       "      <th></th>\n",
       "      <th>review</th>\n",
       "    </tr>\n",
       "  </thead>\n",
       "  <tbody>\n",
       "    <tr>\n",
       "      <th>0</th>\n",
       "      <td>Very cute coffee shop and restaurant. They hav...</td>\n",
       "    </tr>\n",
       "    <tr>\n",
       "      <th>1</th>\n",
       "      <td>Six of us met here for breakfast before our wa...</td>\n",
       "    </tr>\n",
       "    <tr>\n",
       "      <th>2</th>\n",
       "      <td>We came for brunch and they ran out of seven s...</td>\n",
       "    </tr>\n",
       "    <tr>\n",
       "      <th>3</th>\n",
       "      <td>The food was delicious. The ricotta pancakes w...</td>\n",
       "    </tr>\n",
       "    <tr>\n",
       "      <th>4</th>\n",
       "      <td>Great place with delicious food and friendly s...</td>\n",
       "    </tr>\n",
       "    <tr>\n",
       "      <th>5</th>\n",
       "      <td>Great food amazing coffee and tea. Short walk ...</td>\n",
       "    </tr>\n",
       "    <tr>\n",
       "      <th>6</th>\n",
       "      <td>Great service, lovely location, and really ama...</td>\n",
       "    </tr>\n",
       "    <tr>\n",
       "      <th>7</th>\n",
       "      <td>Ricotta hot cakes! These were so yummy. I ate ...</td>\n",
       "    </tr>\n",
       "    <tr>\n",
       "      <th>8</th>\n",
       "      <td>We came for brunch twice in our week-long visi...</td>\n",
       "    </tr>\n",
       "    <tr>\n",
       "      <th>9</th>\n",
       "      <td>It was ok. Had coffee with my friends. I'm new...</td>\n",
       "    </tr>\n",
       "  </tbody>\n",
       "</table>\n",
       "</div>"
      ],
      "text/plain": [
       "                                              review\n",
       "0  Very cute coffee shop and restaurant. They hav...\n",
       "1  Six of us met here for breakfast before our wa...\n",
       "2  We came for brunch and they ran out of seven s...\n",
       "3  The food was delicious. The ricotta pancakes w...\n",
       "4  Great place with delicious food and friendly s...\n",
       "5  Great food amazing coffee and tea. Short walk ...\n",
       "6  Great service, lovely location, and really ama...\n",
       "7  Ricotta hot cakes! These were so yummy. I ate ...\n",
       "8  We came for brunch twice in our week-long visi...\n",
       "9  It was ok. Had coffee with my friends. I'm new..."
      ]
     },
     "execution_count": 69,
     "metadata": {},
     "output_type": "execute_result"
    }
   ],
   "source": [
    "df = pd.DataFrame(np.array(reviews), columns=['review'])\n",
    "df"
   ]
  },
  {
   "cell_type": "code",
   "execution_count": null,
   "id": "688f167d-bb02-4288-b37c-d7dfb902aefa",
   "metadata": {},
   "outputs": [
    {
     "data": {
      "text/plain": [
       "review    Six of us met here for breakfast before our wa...\n",
       "Name: 1, dtype: object"
      ]
     },
     "execution_count": 75,
     "metadata": {},
     "output_type": "execute_result"
    }
   ],
   "source": [
    "df.iloc[1]"
   ]
  },
  {
   "cell_type": "code",
   "execution_count": null,
   "id": "af2a532b-32b3-4f3f-9633-496b23edeb0a",
   "metadata": {},
   "outputs": [],
   "source": [
    "def sentiment_score(review):\n",
    "    tokens = tokenizer.encode(review, return_tensors='pt')\n",
    "    result = model(tokens)\n",
    "    return int(torch.argmax(result.logits))+1"
   ]
  },
  {
   "cell_type": "code",
   "execution_count": null,
   "id": "80ff6587-0053-4577-aca9-ea040e6de5c1",
   "metadata": {},
   "outputs": [
    {
     "data": {
      "text/plain": [
       "4"
      ]
     },
     "execution_count": 85,
     "metadata": {},
     "output_type": "execute_result"
    }
   ],
   "source": [
    "sentiment_score(df['review'].iloc[3])"
   ]
  },
  {
   "cell_type": "code",
   "execution_count": null,
   "id": "d906c93c-81fc-41ed-90bc-f4d62585e692",
   "metadata": {},
   "outputs": [
    {
     "data": {
      "text/html": [
       "<div>\n",
       "<style scoped>\n",
       "    .dataframe tbody tr th:only-of-type {\n",
       "        vertical-align: middle;\n",
       "    }\n",
       "\n",
       "    .dataframe tbody tr th {\n",
       "        vertical-align: top;\n",
       "    }\n",
       "\n",
       "    .dataframe thead th {\n",
       "        text-align: right;\n",
       "    }\n",
       "</style>\n",
       "<table border=\"1\" class=\"dataframe\">\n",
       "  <thead>\n",
       "    <tr style=\"text-align: right;\">\n",
       "      <th></th>\n",
       "      <th>review</th>\n",
       "      <th>sentiment</th>\n",
       "    </tr>\n",
       "  </thead>\n",
       "  <tbody>\n",
       "    <tr>\n",
       "      <th>0</th>\n",
       "      <td>Very cute coffee shop and restaurant. They hav...</td>\n",
       "      <td>4</td>\n",
       "    </tr>\n",
       "    <tr>\n",
       "      <th>1</th>\n",
       "      <td>Six of us met here for breakfast before our wa...</td>\n",
       "      <td>4</td>\n",
       "    </tr>\n",
       "    <tr>\n",
       "      <th>2</th>\n",
       "      <td>We came for brunch and they ran out of seven s...</td>\n",
       "      <td>2</td>\n",
       "    </tr>\n",
       "    <tr>\n",
       "      <th>3</th>\n",
       "      <td>The food was delicious. The ricotta pancakes w...</td>\n",
       "      <td>4</td>\n",
       "    </tr>\n",
       "    <tr>\n",
       "      <th>4</th>\n",
       "      <td>Great place with delicious food and friendly s...</td>\n",
       "      <td>5</td>\n",
       "    </tr>\n",
       "    <tr>\n",
       "      <th>5</th>\n",
       "      <td>Great food amazing coffee and tea. Short walk ...</td>\n",
       "      <td>5</td>\n",
       "    </tr>\n",
       "    <tr>\n",
       "      <th>6</th>\n",
       "      <td>Great service, lovely location, and really ama...</td>\n",
       "      <td>5</td>\n",
       "    </tr>\n",
       "    <tr>\n",
       "      <th>7</th>\n",
       "      <td>Ricotta hot cakes! These were so yummy. I ate ...</td>\n",
       "      <td>5</td>\n",
       "    </tr>\n",
       "    <tr>\n",
       "      <th>8</th>\n",
       "      <td>We came for brunch twice in our week-long visi...</td>\n",
       "      <td>4</td>\n",
       "    </tr>\n",
       "    <tr>\n",
       "      <th>9</th>\n",
       "      <td>It was ok. Had coffee with my friends. I'm new...</td>\n",
       "      <td>3</td>\n",
       "    </tr>\n",
       "  </tbody>\n",
       "</table>\n",
       "</div>"
      ],
      "text/plain": [
       "                                              review  sentiment\n",
       "0  Very cute coffee shop and restaurant. They hav...          4\n",
       "1  Six of us met here for breakfast before our wa...          4\n",
       "2  We came for brunch and they ran out of seven s...          2\n",
       "3  The food was delicious. The ricotta pancakes w...          4\n",
       "4  Great place with delicious food and friendly s...          5\n",
       "5  Great food amazing coffee and tea. Short walk ...          5\n",
       "6  Great service, lovely location, and really ama...          5\n",
       "7  Ricotta hot cakes! These were so yummy. I ate ...          5\n",
       "8  We came for brunch twice in our week-long visi...          4\n",
       "9  It was ok. Had coffee with my friends. I'm new...          3"
      ]
     },
     "execution_count": 87,
     "metadata": {},
     "output_type": "execute_result"
    }
   ],
   "source": [
    "df['sentiment'] = df['review'].apply(lambda x: sentiment_score(x[:512]))\n",
    "df"
   ]
  },
  {
   "cell_type": "code",
   "execution_count": null,
   "id": "964cbdd8-fde6-486f-8551-0f28e1d1b6c2",
   "metadata": {},
   "outputs": [],
   "source": []
  }
 ],
 "metadata": {
  "kernelspec": {
   "display_name": "Python 3 (ipykernel)",
   "language": "python",
   "name": "python3"
  },
  "language_info": {
   "codemirror_mode": {
    "name": "ipython",
    "version": 3
   },
   "file_extension": ".py",
   "mimetype": "text/x-python",
   "name": "python",
   "nbconvert_exporter": "python",
   "pygments_lexer": "ipython3",
   "version": "3.9.6"
  }
 },
 "nbformat": 4,
 "nbformat_minor": 5
}
